{
 "cells": [
  {
   "cell_type": "code",
   "execution_count": 1,
   "metadata": {},
   "outputs": [],
   "source": [
    "import matplotlib.pyplot as plt\n",
    "import pandas as pd\n",
    "import numpy as np"
   ]
  },
  {
   "cell_type": "markdown",
   "metadata": {},
   "source": [
    "# Plots of common activation functions"
   ]
  },
  {
   "cell_type": "code",
   "execution_count": 2,
   "metadata": {},
   "outputs": [],
   "source": [
    "x = np.linspace(-8, 8, 200)\n",
    "sigmoid = lambda x: 1/(1+np.exp(-x))\n",
    "tanh = lambda x: np.tanh(x)\n",
    "relu = lambda x: np.where(x>0, x, 0)\n",
    "scale, alpha = 1.05070098, 1.67326324 #Constants used by Tensorflow\n",
    "selu = lambda x: np.where(x>0, scale * x, scale * alpha * (np.exp(x)-1))"
   ]
  },
  {
   "cell_type": "code",
   "execution_count": 10,
   "metadata": {},
   "outputs": [],
   "source": [
    "for name, f in (('sigmoid', sigmoid), ('tanh', tanh), ('relu', relu), ('selu', selu)):\n",
    "    fig, ax = plt.subplots(figsize=(4, 3))\n",
    " \n",
    "    ax.axvline(0, c='black')\n",
    "    ax.axhline(0, c='black')\n",
    "    ax.set_xlabel('Sum of Inputs')\n",
    "    ax.set_ylabel('Output')\n",
    "    ax.plot(x, f(x), linewidth=2, c='red')\n",
    "    ax.grid()\n",
    "    \n",
    "    plt.tight_layout()\n",
    "    plt.savefig(f'plots/{name}.svg')\n",
    "    plt.close(fig)"
   ]
  },
  {
   "cell_type": "markdown",
   "metadata": {},
   "source": [
    "# Plot loss-functions"
   ]
  },
  {
   "cell_type": "code",
   "execution_count": 14,
   "metadata": {},
   "outputs": [
    {
     "name": "stderr",
     "output_type": "stream",
     "text": [
      "/home/lucas/anaconda3/envs/plotting/lib/python3.7/site-packages/ipykernel_launcher.py:1: RuntimeWarning: divide by zero encountered in log\n",
      "  \"\"\"Entry point for launching an IPython kernel.\n",
      "/home/lucas/anaconda3/envs/plotting/lib/python3.7/site-packages/ipykernel_launcher.py:4: RuntimeWarning: divide by zero encountered in true_divide\n",
      "  after removing the cwd from sys.path.\n"
     ]
    }
   ],
   "source": [
    "binary_crossentropy = lambda y_true, y_pred: -(y_true * np.log(y_pred) + (1 - y_true) * np.log(1 - y_pred))\n",
    "mean_absolute_error = lambda y_true, y_pred: np.abs(y_true - y_pred)\n",
    "mean_squared_error = lambda y_true, y_pred: (y_true - y_pred) ** 2\n",
    "kld = lambda y_true, y_pred: y_true * np.log(y_true/y_pred) + (1 - y_true) * np.log((1-y_true)/(1-y_pred))\n",
    "\n",
    "n_points = 1000\n",
    "y = 0.5\n",
    "y_true = np.repeat(y, n_points)\n",
    "y_pred = np.linspace(0, 1, n_points)\n",
    "for name, f in (('binary_crossentropy', binary_crossentropy), ('mae', mean_absolute_error), ('mse', mean_squared_error), ('kld', kld)):\n",
    "    fig, ax = plt.subplots(figsize=(4, 3))\n",
    "    ax.plot(y_pred, f(y_true, y_pred), c='red', linewidth=2)\n",
    "    ax.set_xlabel('Predicted Value')\n",
    "    ax.set_ylabel('Loss')\n",
    "    ax.grid()\n",
    "    ax.axvline(y, c='grey', linestyle='--')\n",
    "    plt.xticks(np.arange(0, 1.25, 0.25))\n",
    "    plt.tight_layout()\n",
    "    plt.savefig(f'plots/{name}.svg')\n",
    "    plt.close(fig)"
   ]
  },
  {
   "cell_type": "code",
   "execution_count": null,
   "metadata": {},
   "outputs": [],
   "source": [
    "def plot_score(f, y_true, x_label, y_label, fname):\n",
    "    fig, ax = plt.subplots(figsize=(4, 3))\n",
    "    ax.plot(y_pred, f(y_true, y_pred), c='red', linewidth=2)\n",
    "    ax.set_xlabel('Average Activity')\n",
    "    ax.set_ylabel('Loss')\n",
    "    ax.grid()\n",
    "    ax.axvline(y, c='grey', linestyle='--')\n",
    "    plt.xticks(np.arange(0, 1.25, 0.25))\n",
    "    plt.tight_layout()\n",
    "    plt.savefig(f'plots/{name}.svg')\n",
    "    plt.close(fig)"
   ]
  }
 ],
 "metadata": {
  "kernelspec": {
   "display_name": "Python 3",
   "language": "python",
   "name": "python3"
  },
  "language_info": {
   "codemirror_mode": {
    "name": "ipython",
    "version": 3
   },
   "file_extension": ".py",
   "mimetype": "text/x-python",
   "name": "python",
   "nbconvert_exporter": "python",
   "pygments_lexer": "ipython3",
   "version": "3.7.9"
  }
 },
 "nbformat": 4,
 "nbformat_minor": 4
}
